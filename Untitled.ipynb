{
 "cells": [
  {
   "cell_type": "code",
   "execution_count": 43,
   "id": "3dcb11ee-84f4-4196-99c9-91fa48c4d3d0",
   "metadata": {},
   "outputs": [],
   "source": [
    "import spacy\n",
    "from spacy.lang.en.stop_words import STOP_WORDS\n",
    "from string import punctuation\n",
    "from collections import Counter\n",
    "from heapq import nlargest\n",
    "import re"
   ]
  },
  {
   "cell_type": "code",
   "execution_count": 44,
   "id": "998c11d5-5497-4488-af7f-25bb59ac3196",
   "metadata": {},
   "outputs": [],
   "source": [
    "nlp=spacy.load('es')"
   ]
  },
  {
   "cell_type": "code",
   "execution_count": 45,
   "id": "a622d086-2df5-4ea6-a4a1-0123e076e139",
   "metadata": {},
   "outputs": [],
   "source": [
    "text=\"\"\"Buscamos un/a Python Dev. con ganas de aprender sobre finanzas y mercado de capitales para desarrollar algoritmos y optimizar procesos.\n",
    "\n",
    "Tus desafíos serán\n",
    "• Desarrollar e implementar algoritmos para comprar y vender activos financieros en los mercados locales e internacionales.\n",
    "• Desarrollar conexiones a los mercados locales e internacionales.\n",
    "\n",
    "Requisitos\n",
    "\n",
    "Para postularte te pedimos que tengas\n",
    "• Formación universitaria en Licenciatura en Ciencias de la Computación, Tecnicatura en Programación, Ing. en Sistemas o similar.\n",
    "• Programación en Python (avanzado).\n",
    "• Dominio del paquete Office.\n",
    "\n",
    "Será un plus que cuentes con\n",
    "• Conocimientos o interés sobre acciones o bonos.\n",
    "• Conocimiento en modelización predictiva mediante técnicas de machine learning y data science.\n",
    "• Conocimiento en base de datos.\n",
    "• Conocimientos en Protocolo FIX.\n",
    "• Manejo del idioma inglés.\n",
    "\n",
    "Esperamos de vos\n",
    "• Integridad y confianza.\n",
    "• Capacidad para colaborar eficazmente y trabajar como parte de un equipo.\n",
    "• Gran atención a los detalles.\n",
    "• Gran capacidad numérica, razonamiento lógico y analítico.\n",
    "• Motivación propia y capacidad de aprender rápidamente.\n",
    "• Interés por continuar aprendiendo.\n",
    "\n",
    "Beneficios\n",
    "\n",
    "Te ofrecemos\n",
    "• Sumarte a una empresa dinámica, líder en la región.\n",
    "• Un ambiente de trabajo que estimula la participación, el aprendizaje y el desarrollo.\n",
    "• Salud Obra Social para vos y tu grupo familiar.\n",
    "• Vacaciones Días hábiles acumulables + día de cumpleaños. Goce a elección.\n",
    "• Licencia de paternidad extendida.\n",
    "• Clases de Inglés.\n",
    "• Portal exclusivo de beneficios.\n",
    "• Capacitaciones.\n",
    "\n",
    "Somos uno de los grupos empresarios con mayor proyección de negocios en la región. Nos centramos en la búsqueda permanente de oportunidades de negocios y acompañamos a nuestros clientes con asesoramiento personal o a través nuevas tecnologías apropiadas. Contamos con un equipo humano altamente calificado abocado a la búsqueda de oportunidades de inversión, y una amplia gama de productos y servicios. Siempre en un marco de seriedad y confidencialidad.\n",
    "\n",
    "Nuestros Valores Esfuerzo y dedicación al cliente. Respeto y Honestidad. Espíritu de equipo y de superación permanente.\n",
    "\n",
    "ROSENTAL INVERSIONES, SOMOS LA SUMA DE BUENAS DECISIONES.\"\"\""
   ]
  },
  {
   "cell_type": "code",
   "execution_count": 46,
   "id": "50c985ee-a3cb-4d49-a315-84a8f33a2dbe",
   "metadata": {},
   "outputs": [],
   "source": [
    "text= re.sub(r'[^\\w\\s]', '', text)\n",
    "doc=nlp(text)"
   ]
  },
  {
   "cell_type": "code",
   "execution_count": 53,
   "id": "0647a4c5-f996-4210-a8b0-a83f5964c2eb",
   "metadata": {},
   "outputs": [],
   "source": [
    "keyword = []\n",
    "stopwords = list(STOP_WORDS)\n",
    "pos_tag = ['PROPN', 'ADJ', 'NOUN', 'VERB']\n",
    "for token in doc:\n",
    "    if(token.text in stopwords or token.text in punctuation):\n",
    "        continue\n",
    "    if(token.pos_ in pos_tag):\n",
    "        keyword.append(token.text)"
   ]
  },
  {
   "cell_type": "code",
   "execution_count": 81,
   "id": "ed55805b-3224-4a93-ad7d-db2524083906",
   "metadata": {},
   "outputs": [
    {
     "name": "stdout",
     "output_type": "stream",
     "text": [
      " equipo Python aprender algoritmos Desarrollar\n"
     ]
    }
   ],
   "source": [
    "freq_word = Counter(keyword)\n",
    "#print(freq_word.most_common(5)[1][0])\n",
    "jd_key=\"\"\n",
    "for i in range(5):\n",
    "    jd_key=jd_key+ ' ' +str(freq_word.most_common(5)[i][0])\n",
    "print(jd_key)"
   ]
  },
  {
   "cell_type": "code",
   "execution_count": 75,
   "id": "34847b8a-05b3-4a8b-800c-b5ca32f0126d",
   "metadata": {},
   "outputs": [
    {
     "ename": "IndexError",
     "evalue": "list index out of range",
     "output_type": "error",
     "traceback": [
      "\u001b[0;31m---------------------------------------------------------------------------\u001b[0m",
      "\u001b[0;31mIndexError\u001b[0m                                Traceback (most recent call last)",
      "Cell \u001b[0;32mIn[75], line 1\u001b[0m\n\u001b[0;32m----> 1\u001b[0m max_freq \u001b[38;5;241m=\u001b[39m \u001b[43mCounter\u001b[49m\u001b[43m(\u001b[49m\u001b[43mkeyword\u001b[49m\u001b[43m)\u001b[49m\u001b[38;5;241;43m.\u001b[39;49m\u001b[43mmost_common\u001b[49m\u001b[43m(\u001b[49m\u001b[38;5;241;43m1\u001b[39;49m\u001b[43m)\u001b[49m\u001b[43m[\u001b[49m\u001b[38;5;241;43m1\u001b[39;49m\u001b[43m]\u001b[49m[\u001b[38;5;241m1\u001b[39m]\n\u001b[1;32m      2\u001b[0m \u001b[38;5;28;01mfor\u001b[39;00m word \u001b[38;5;129;01min\u001b[39;00m freq_word\u001b[38;5;241m.\u001b[39mkeys():  \n\u001b[1;32m      3\u001b[0m         freq_word[word] \u001b[38;5;241m=\u001b[39m (freq_word[word]\u001b[38;5;241m/\u001b[39mmax_freq)\n",
      "\u001b[0;31mIndexError\u001b[0m: list index out of range"
     ]
    }
   ],
   "source": [
    "max_freq = Counter(keyword).most_common(1)[1][1]\n",
    "for word in freq_word.keys():  \n",
    "        freq_word[word] = (freq_word[word]/max_freq)\n",
    "freq_word.most_common(5)"
   ]
  },
  {
   "cell_type": "code",
   "execution_count": 60,
   "id": "4d8f7854-5bfd-4dcb-84ef-f7be87ac75a0",
   "metadata": {},
   "outputs": [
    {
     "name": "stdout",
     "output_type": "stream",
     "text": [
      "{Buscamos una Python Dev con ganas de aprender sobre finanzas y mercado de capitales para desarrollar algoritmos y optimizar procesos\n",
      "\n",
      ": 5.0, Tus desafíos serán\n",
      " Desarrollar e implementar algoritmos para comprar y vender activos financieros en los mercados locales e internacionales\n",
      " Desarrollar conexiones a los mercados locales e internacionales\n",
      "\n",
      "Requisitos\n",
      "\n",
      "Para postularte te pedimos que tengas\n",
      " Formación universitaria en Licenciatura en Ciencias de la Computación Tecnicatura en Programación Ing en Sistemas o similar\n",
      " Programación en Python avanzado\n",
      " Dominio del paquete Office\n",
      "\n",
      "Será un plus que cuentes con\n",
      " Conocimientos o interés sobre acciones o bonos\n",
      " Conocimiento en modelización predictiva mediante técnicas de machine learning y data science\n",
      " Conocimiento en base de datos\n",
      " Conocimientos en Protocolo FIX\n",
      " Manejo del idioma inglés\n",
      "\n",
      "Esperamos de vos\n",
      " Integridad y confianza\n",
      " Capacidad para colaborar eficazmente y trabajar como parte de un equipo\n",
      " Gran atención a los detalles\n",
      " Gran capacidad numérica razonamiento lógico y analítico\n",
      " Motivación propia y capacidad de aprender rápidamente\n",
      " Interés por continuar aprendiendo\n",
      "\n",
      "Beneficios\n",
      "\n",
      ": 36.33333333333333, Te ofrecemos\n",
      " Sumarte a una empresa dinámica líder en la región\n",
      " : 2.333333333333333, Un ambiente de trabajo que estimula la participación el aprendizaje y el desarrollo\n",
      " Salud Obra Social para vos y tu grupo familiar\n",
      " Vacaciones Días hábiles acumulables  día de cumpleaños Goce a elección\n",
      " Licencia de paternidad extendida\n",
      " Clases de Inglés\n",
      " Portal exclusivo de beneficios\n",
      " Capacitaciones\n",
      "\n",
      "Somos uno de los grupos empresarios con mayor proyección de negocios en la región Nos centramos en la búsqueda permanente de oportunidades de negocios y acompañamos a nuestros clientes con asesoramiento personal o a través nuevas tecnologías apropiadas Contamos con un equipo humano altamente calificado abocado a la búsqueda de oportunidades de inversión y una amplia gama de productos y servicios Siempre en un marco de seriedad y confidencialidad\n",
      "\n",
      "Nuestros Valores Esfuerzo y dedicación al cliente Respeto y Honestidad Espíritu de equipo y de superación permanente\n",
      "\n",
      "ROSENTAL INVERSIONES SOMOS LA SUMA DE BUENAS DECISIONES: 30.3333333333333}\n"
     ]
    }
   ],
   "source": [
    "sent_strength={}\n",
    "for sent in doc.sents:\n",
    "    for word in sent:\n",
    "        if word.text in freq_word.keys():\n",
    "            if sent in sent_strength.keys():\n",
    "                sent_strength[sent]+=freq_word[word.text]\n",
    "            else:\n",
    "                sent_strength[sent]=freq_word[word.text]\n",
    "print(sent_strength)"
   ]
  },
  {
   "cell_type": "code",
   "execution_count": 64,
   "id": "77cf46b8-f87e-4cd5-8689-0a8f3d92ee77",
   "metadata": {},
   "outputs": [
    {
     "name": "stdout",
     "output_type": "stream",
     "text": [
      "[Tus desafíos serán\n",
      " Desarrollar e implementar algoritmos para comprar y vender activos financieros en los mercados locales e internacionales\n",
      " Desarrollar conexiones a los mercados locales e internacionales\n",
      "\n",
      "Requisitos\n",
      "\n",
      "Para postularte te pedimos que tengas\n",
      " Formación universitaria en Licenciatura en Ciencias de la Computación Tecnicatura en Programación Ing en Sistemas o similar\n",
      " Programación en Python avanzado\n",
      " Dominio del paquete Office\n",
      "\n",
      "Será un plus que cuentes con\n",
      " Conocimientos o interés sobre acciones o bonos\n",
      " Conocimiento en modelización predictiva mediante técnicas de machine learning y data science\n",
      " Conocimiento en base de datos\n",
      " Conocimientos en Protocolo FIX\n",
      " Manejo del idioma inglés\n",
      "\n",
      "Esperamos de vos\n",
      " Integridad y confianza\n",
      " Capacidad para colaborar eficazmente y trabajar como parte de un equipo\n",
      " Gran atención a los detalles\n",
      " Gran capacidad numérica razonamiento lógico y analítico\n",
      " Motivación propia y capacidad de aprender rápidamente\n",
      " Interés por continuar aprendiendo\n",
      "\n",
      "Beneficios\n",
      "\n",
      ", Un ambiente de trabajo que estimula la participación el aprendizaje y el desarrollo\n",
      " Salud Obra Social para vos y tu grupo familiar\n",
      " Vacaciones Días hábiles acumulables  día de cumpleaños Goce a elección\n",
      " Licencia de paternidad extendida\n",
      " Clases de Inglés\n",
      " Portal exclusivo de beneficios\n",
      " Capacitaciones\n",
      "\n",
      "Somos uno de los grupos empresarios con mayor proyección de negocios en la región Nos centramos en la búsqueda permanente de oportunidades de negocios y acompañamos a nuestros clientes con asesoramiento personal o a través nuevas tecnologías apropiadas Contamos con un equipo humano altamente calificado abocado a la búsqueda de oportunidades de inversión y una amplia gama de productos y servicios Siempre en un marco de seriedad y confidencialidad\n",
      "\n",
      "Nuestros Valores Esfuerzo y dedicación al cliente Respeto y Honestidad Espíritu de equipo y de superación permanente\n",
      "\n",
      "ROSENTAL INVERSIONES SOMOS LA SUMA DE BUENAS DECISIONES, Buscamos una Python Dev con ganas de aprender sobre finanzas y mercado de capitales para desarrollar algoritmos y optimizar procesos\n",
      "\n",
      ", Te ofrecemos\n",
      " Sumarte a una empresa dinámica líder en la región\n",
      " ]\n"
     ]
    }
   ],
   "source": [
    "summarized_sentences = nlargest(5, sent_strength, key=sent_strength.get)\n",
    "print(summarized_sentences)"
   ]
  },
  {
   "cell_type": "markdown",
   "id": "56db876b-4252-47c4-b286-c66ae411f6cd",
   "metadata": {},
   "source": [
    "##### print(text)"
   ]
  },
  {
   "cell_type": "code",
   "execution_count": 58,
   "id": "50876afd-7b5b-4b52-8e54-8352a5b74e75",
   "metadata": {},
   "outputs": [
    {
     "name": "stdout",
     "output_type": "stream",
     "text": [
      "['Buscamos', 'Python', 'Dev', 'ganas', 'aprender', 'finanzas', 'mercado', 'capitales', 'desarrollar', 'algoritmos', 'optimizar', 'procesos', 'Tus', 'desafíos', 'Desarrollar', 'implementar', 'algoritmos', 'comprar', 'vender', 'activos', 'financieros', 'mercados', 'locales', 'internacionales', 'Desarrollar', 'conexiones', 'mercados', 'locales', 'internacionales', 'Requisitos', 'postularte', 'pedimos', 'tengas', 'Formación', 'universitaria', 'Licenciatura', 'Ciencias', 'Computación', 'Tecnicatura', 'Programación', 'Ing', 'Sistemas', 'similar', 'Programación', 'Python', 'avanzado', 'Dominio', 'paquete', 'Office', 'Será', 'plus', 'cuentes', 'Conocimientos', 'interés', 'acciones', 'bonos', 'Conocimiento', 'modelización', 'predictiva', 'técnicas', 'machine', 'learning', 'data', 'Conocimiento', 'datos', 'Conocimientos', 'Protocolo', 'FIX', 'Manejo', 'idioma', 'inglés', 'Esperamos', 'vos', 'Integridad', 'confianza', 'Capacidad', 'colaborar', 'trabajar', 'parte', 'equipo', 'Gran', 'atención', 'detalles', 'Gran', 'capacidad', 'numérica', 'razonamiento', 'lógico', 'analítico', 'Motivación', 'propia', 'capacidad', 'aprender', 'Interés', 'continuar', 'aprendiendo', 'Beneficios', 'ofrecemos', 'Sumarte', 'empresa', 'dinámica', 'líder', 'región', 'ambiente', 'trabajo', 'estimula', 'participación', 'aprendizaje', 'desarrollo', 'Salud', 'Obra', 'Social', 'vos', 'grupo', 'familiar', 'Vacaciones', 'Días', 'hábiles', 'acumulables', 'día', 'cumpleaños', 'Goce', 'elección', 'Licencia', 'paternidad', 'extendida', 'Clases', 'Inglés', 'Portal', 'exclusivo', 'beneficios', 'Capacitaciones', 'grupos', 'empresarios', 'mayor', 'proyección', 'negocios', 'región', 'centramos', 'búsqueda', 'permanente', 'oportunidades', 'negocios', 'acompañamos', 'clientes', 'asesoramiento', 'personal', 'nuevas', 'tecnologías', 'apropiadas', 'Contamos', 'equipo', 'humano', 'calificado', 'abocado', 'búsqueda', 'oportunidades', 'inversión', 'amplia', 'gama', 'productos', 'servicios', 'marco', 'seriedad', 'confidencialidad', 'Valores', 'Esfuerzo', 'dedicación', 'cliente', 'Respeto', 'Honestidad', 'Espíritu', 'equipo', 'superación', 'permanente', 'ROSENTAL', 'INVERSIONES', 'SUMA', 'BUENAS', 'DECISIONES']\n"
     ]
    }
   ],
   "source": [
    "print(keyword)"
   ]
  },
  {
   "cell_type": "code",
   "execution_count": null,
   "id": "2702a3ef-1db0-41b6-8bbc-456034f78478",
   "metadata": {},
   "outputs": [],
   "source": []
  }
 ],
 "metadata": {
  "kernelspec": {
   "display_name": "Python 3 (ipykernel)",
   "language": "python",
   "name": "python3"
  },
  "language_info": {
   "codemirror_mode": {
    "name": "ipython",
    "version": 3
   },
   "file_extension": ".py",
   "mimetype": "text/x-python",
   "name": "python",
   "nbconvert_exporter": "python",
   "pygments_lexer": "ipython3",
   "version": "3.10.13"
  }
 },
 "nbformat": 4,
 "nbformat_minor": 5
}
